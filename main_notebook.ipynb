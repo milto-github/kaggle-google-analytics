{
 "cells": [
  {
   "cell_type": "code",
   "execution_count": 1,
   "metadata": {},
   "outputs": [],
   "source": [
    "import pandas as pd\n",
    "from pandas.io.json import loads, json_normalize\n",
    "\n",
    "# challenge specifies to load fullVisitorId as a string to guarantee uniqueness\n",
    "id_to_str = {'fullVisitorId': str}\n",
    "\n",
    "train = pd.read_csv('./all/train.csv', nrows=100000, dtype=id_to_str)\n",
    "test  = pd.read_csv('./all/test.csv', nrows=100000, dtype=id_to_str)"
   ]
  },
  {
   "cell_type": "code",
   "execution_count": 2,
   "metadata": {},
   "outputs": [],
   "source": [
    "def parse_json_cols(df):\n",
    "    for col in ['device', 'geoNetwork', 'totals', 'trafficSource']:\n",
    "        # load the json and separate\n",
    "        df_json = json_normalize(df[col].apply(loads), sep='/')\n",
    "        df_json.columns = [(col + '/' + c) for c in df_json.columns]\n",
    "        df.drop(columns=col, inplace=True)\n",
    "        df = pd.concat([df, df_json], axis=1)\n",
    "    return df\n",
    "\n",
    "#\n",
    "train = parse_json_cols(train)\n",
    "test  = parse_json_cols(test)"
   ]
  },
  {
   "cell_type": "markdown",
   "metadata": {},
   "source": [
    "---\n",
    "# Examine data"
   ]
  },
  {
   "cell_type": "markdown",
   "metadata": {},
   "source": [
    "### Dates are not parsed and visitStartTime is in POSIX time\n",
    "    * visitStartTime makes Date redundant (more information encoded)\n",
    "    * need to get continuous time data (hour, minute)"
   ]
  },
  {
   "cell_type": "code",
   "execution_count": 3,
   "metadata": {},
   "outputs": [],
   "source": [
    "from datetime import datetime\n",
    "\n",
    "def parse_dates(df):\n",
    "    df['visitStartTime'] = df['visitStartTime'].apply(lambda time: datetime.fromtimestamp(time))\n",
    "    df['year']  = df['visitStartTime'].dt.year\n",
    "    df['month'] = df['visitStartTime'].dt.month\n",
    "    df['day']   = df['visitStartTime'].dt.day\n",
    "    df['hour']  = df['visitStartTime'].dt.hour + (df['visitStartTime'].dt.minute/60)\n",
    "    df.drop(columns=['date', 'visitStartTime'], inplace=True)\n",
    "\n",
    "    return df\n",
    "\n",
    "#\n",
    "train = parse_dates(train)\n",
    "test  = parse_dates(test)"
   ]
  },
  {
   "cell_type": "markdown",
   "metadata": {},
   "source": [
    "### Several columns have NaN values\n",
    "* Every value in totals should have a lower bound of 0.\n",
    "* Will fill remainder with most frequent value"
   ]
  },
  {
   "cell_type": "code",
   "execution_count": 4,
   "metadata": {},
   "outputs": [
    {
     "data": {
      "text/plain": [
       "totals/bounces                                  True\n",
       "totals/newVisits                                True\n",
       "totals/pageviews                                True\n",
       "totals/transactionRevenue                       True\n",
       "trafficSource/adContent                         True\n",
       "trafficSource/adwordsClickInfo/adNetworkType    True\n",
       "trafficSource/adwordsClickInfo/gclId            True\n",
       "trafficSource/adwordsClickInfo/isVideoAd        True\n",
       "trafficSource/adwordsClickInfo/page             True\n",
       "trafficSource/adwordsClickInfo/slot             True\n",
       "trafficSource/campaignCode                      True\n",
       "trafficSource/isTrueDirect                      True\n",
       "trafficSource/keyword                           True\n",
       "trafficSource/referralPath                      True\n",
       "dtype: bool"
      ]
     },
     "execution_count": 4,
     "metadata": {},
     "output_type": "execute_result"
    }
   ],
   "source": [
    "nan_series = train.isna().any()\n",
    "nan_true   = nan_series[nan_series == True]\n",
    "nan_true"
   ]
  },
  {
   "cell_type": "code",
   "execution_count": 5,
   "metadata": {},
   "outputs": [],
   "source": [
    "def clean_nans(df):\n",
    "    totals_cols = list(filter(lambda c : c.startswith('totals'), df.columns))\n",
    "    for i in totals_cols:\n",
    "        df[i] = df[i].astype(float)\n",
    "        df[i].fillna(0, inplace=True)\n",
    "   \n",
    "    nan_series = df.isna().any()\n",
    "    nan_true   = nan_series[nan_series == True]\n",
    "    remaining_nan_cols = list(set(nan_true.index) - set(totals_cols))\n",
    "    \n",
    "    for i in remaining_nan_cols:\n",
    "        # fill with most frequent value\n",
    "        df[i].fillna(df[i].value_counts().index[0], inplace=True)\n",
    "        \n",
    "    return df\n",
    "\n",
    "#\n",
    "train = clean_nans(train)\n",
    "test  = clean_nans(test)"
   ]
  },
  {
   "cell_type": "markdown",
   "metadata": {},
   "source": [
    "### Several columns have 1 unique value\n",
    "    * Provide no information, so will drop"
   ]
  },
  {
   "cell_type": "code",
   "execution_count": 6,
   "metadata": {
    "scrolled": true
   },
   "outputs": [
    {
     "name": "stdout",
     "output_type": "stream",
     "text": [
      "socialEngagementType\n",
      "device/browserSize\n",
      "device/browserVersion\n",
      "device/flashVersion\n",
      "device/language\n",
      "device/mobileDeviceBranding\n",
      "device/mobileDeviceInfo\n",
      "device/mobileDeviceMarketingName\n",
      "device/mobileDeviceModel\n",
      "device/mobileInputSelector\n",
      "device/operatingSystemVersion\n",
      "device/screenColors\n",
      "device/screenResolution\n",
      "geoNetwork/cityId\n",
      "geoNetwork/latitude\n",
      "geoNetwork/longitude\n",
      "geoNetwork/networkLocation\n",
      "totals/visits\n",
      "trafficSource/adwordsClickInfo/criteriaParameters\n",
      "trafficSource/adwordsClickInfo/isVideoAd\n",
      "trafficSource/campaignCode\n",
      "trafficSource/isTrueDirect\n"
     ]
    }
   ],
   "source": [
    "for col in train:\n",
    "    if len(train[col].unique()) == 1:\n",
    "        print(col)"
   ]
  },
  {
   "cell_type": "code",
   "execution_count": 7,
   "metadata": {},
   "outputs": [],
   "source": [
    "def drop_single_val_cols(df):\n",
    "    for col in df:\n",
    "        if len(df[col].unique()) == 1:\n",
    "            df.drop(columns=[col], inplace=True)\n",
    "    return df\n",
    "\n",
    "#\n",
    "train = drop_single_val_cols(train)\n",
    "test  = drop_single_val_cols(test)"
   ]
  },
  {
   "cell_type": "markdown",
   "metadata": {},
   "source": [
    "### A lot of data is categorical\n",
    "* Thinks like referal links, locations, and keywords are categorical and need to be represented as such\n",
    "* Will use sklearn's LabelEncoder\n",
    "    * fit on all possible values for a column, then transform"
   ]
  },
  {
   "cell_type": "code",
   "execution_count": 8,
   "metadata": {},
   "outputs": [
    {
     "data": {
      "text/plain": [
       "['channelGrouping',\n",
       " 'fullVisitorId',\n",
       " 'sessionId',\n",
       " 'device/browser',\n",
       " 'device/deviceCategory',\n",
       " 'device/operatingSystem',\n",
       " 'geoNetwork/city',\n",
       " 'geoNetwork/continent',\n",
       " 'geoNetwork/country',\n",
       " 'geoNetwork/metro',\n",
       " 'geoNetwork/networkDomain',\n",
       " 'geoNetwork/region',\n",
       " 'geoNetwork/subContinent',\n",
       " 'trafficSource/adContent',\n",
       " 'trafficSource/adwordsClickInfo/adNetworkType',\n",
       " 'trafficSource/adwordsClickInfo/gclId',\n",
       " 'trafficSource/adwordsClickInfo/page',\n",
       " 'trafficSource/adwordsClickInfo/slot',\n",
       " 'trafficSource/campaign',\n",
       " 'trafficSource/keyword',\n",
       " 'trafficSource/medium',\n",
       " 'trafficSource/referralPath',\n",
       " 'trafficSource/source']"
      ]
     },
     "execution_count": 8,
     "metadata": {},
     "output_type": "execute_result"
    }
   ],
   "source": [
    "list(train.select_dtypes(include='object').columns)"
   ]
  },
  {
   "cell_type": "code",
   "execution_count": 9,
   "metadata": {},
   "outputs": [],
   "source": [
    "from sklearn.preprocessing import LabelEncoder\n",
    "\n",
    "for i in train.select_dtypes(include='object').columns:\n",
    "    # get list of all possible categories for each column\n",
    "    all_categories = list(set(list(train[i].unique()))\\\n",
    "                     | set(list(test[i].unique())))\n",
    "\n",
    "    encoder = LabelEncoder()\n",
    "    # fit on column\n",
    "    encoder.fit(all_categories)\n",
    "    train[i] = encoder.transform(train[i])\n",
    "    test[i]  = encoder.transform(test[i])"
   ]
  },
  {
   "cell_type": "markdown",
   "metadata": {},
   "source": [
    "### Predict natural log of revenue\n",
    "* Target specified as ln(total transaction revenue + 1)\n",
    "    * Need to convert transactionRevenue column to accomodate\n",
    "* Evaluate with RMSE"
   ]
  },
  {
   "cell_type": "code",
   "execution_count": 10,
   "metadata": {},
   "outputs": [],
   "source": [
    "from numpy import log1p\n",
    "\n",
    "# to make the line more readable\n",
    "i = 'totals/transactionRevenue'\n",
    "\n",
    "train[i] = train[i].apply(lambda revenue: log1p(revenue))"
   ]
  },
  {
   "cell_type": "markdown",
   "metadata": {},
   "source": [
    "---\n",
    "# Train models"
   ]
  },
  {
   "cell_type": "code",
   "execution_count": 70,
   "metadata": {},
   "outputs": [],
   "source": [
    "def get_tt_split(df):\n",
    "    X = df.drop(columns=['totals/transactionRevenue'])\n",
    "    y = df['totals/transactionRevenue']\n",
    "    \n",
    "    return train_test_split(X, y, test_size = 0.2, random_state = 3)"
   ]
  },
  {
   "cell_type": "markdown",
   "metadata": {},
   "source": [
    "### Linear Regression"
   ]
  },
  {
   "cell_type": "code",
   "execution_count": 66,
   "metadata": {},
   "outputs": [],
   "source": [
    "from sklearn.linear_model import LinearRegression\n",
    "from sklearn.metrics import mean_squared_error\n",
    "from sklearn.model_selection import train_test_split\n",
    "\n",
    "def train_lr(df):\n",
    "    X_train, X_test, y_train, y_test = get_tt_split(df)\n",
    "    \n",
    "    model = LinearRegression()\n",
    "    print('Training model: {0}...\\n'.format('lr'))\n",
    "    model.fit(X_train, y_train)\n",
    "    test_predictions = model.predict(X_test)\n",
    "    \n",
    "    mse = mean_squared_error(y_test, test_predictions)\n",
    "    rmse = sqrt(mse)\n",
    "    \n",
    "    print('=====')\n",
    "    print('RMSE:', rmse)\n",
    "    print('=====\\n\\n==========')\n",
    "    print('INTERCEPT:', model.intercept_)\n",
    "    print('==========\\n\\n==========================')\n",
    "    print('COEFFICIENTS (decreasing):')\n",
    "    print('==========================')\n",
    "    coefficients = list(zip(X_test.columns, model.coef_))\n",
    "    coefficients.sort(key = lambda c: c[1])\n",
    "    for i in coefficients[::-1]:\n",
    "        print('{0}:\\n\\t{1}\\n'.format(i[0], i[1]))\n",
    "    \n",
    "    \n",
    "    return model"
   ]
  },
  {
   "cell_type": "code",
   "execution_count": 67,
   "metadata": {},
   "outputs": [
    {
     "name": "stdout",
     "output_type": "stream",
     "text": [
      "Training model: lr...\n",
      "\n",
      "=====\n",
      "RMSE: 1.8582894507821344\n",
      "=====\n",
      "\n",
      "==========\n",
      "INTERCEPT: -5468.556876986922\n",
      "==========\n",
      "\n",
      "==========================\n",
      "COEFFICIENTS (decreasing):\n",
      "==========================\n",
      "year:\n",
      "\t2.770301931422214\n",
      "\n",
      "totals/bounces:\n",
      "\t0.3631650026659217\n",
      "\n",
      "trafficSource/adwordsClickInfo/slot:\n",
      "\t0.3041925545137706\n",
      "\n",
      "totals/pageviews:\n",
      "\t0.2854396660639576\n",
      "\n",
      "month:\n",
      "\t0.2393481316736069\n",
      "\n",
      "channelGrouping:\n",
      "\t0.060844239372899234\n",
      "\n",
      "trafficSource/adContent:\n",
      "\t0.011471181134603516\n",
      "\n",
      "day:\n",
      "\t0.006537429214795349\n",
      "\n",
      "device/deviceCategory:\n",
      "\t0.005030980732452793\n",
      "\n",
      "trafficSource/source:\n",
      "\t0.003094612189183585\n",
      "\n",
      "hour:\n",
      "\t0.0016087721429387215\n",
      "\n",
      "geoNetwork/subContinent:\n",
      "\t0.0013255093235927592\n",
      "\n",
      "device/browser:\n",
      "\t0.0009856930027360355\n",
      "\n",
      "geoNetwork/country:\n",
      "\t0.0009206174651419316\n",
      "\n",
      "geoNetwork/region:\n",
      "\t0.0007015852458719579\n",
      "\n",
      "fullVisitorId:\n",
      "\t0.00011935583816971003\n",
      "\n",
      "trafficSource/adwordsClickInfo/gclId:\n",
      "\t1.3133051772880416e-05\n",
      "\n",
      "trafficSource/adwordsClickInfo/adNetworkType:\n",
      "\t-9.842474057997208e-12\n",
      "\n",
      "visitId:\n",
      "\t-8.13514509770333e-08\n",
      "\n",
      "geoNetwork/networkDomain:\n",
      "\t-3.0433784000468515e-06\n",
      "\n",
      "trafficSource/keyword:\n",
      "\t-2.6821148878407364e-05\n",
      "\n",
      "sessionId:\n",
      "\t-0.00010553186045658108\n",
      "\n",
      "geoNetwork/metro:\n",
      "\t-0.0002306516231286204\n",
      "\n",
      "trafficSource/referralPath:\n",
      "\t-0.00042443306500881733\n",
      "\n",
      "geoNetwork/city:\n",
      "\t-0.00044428687564135\n",
      "\n",
      "device/operatingSystem:\n",
      "\t-0.003962320224679103\n",
      "\n",
      "visitNumber:\n",
      "\t-0.005889628548542176\n",
      "\n",
      "trafficSource/campaign:\n",
      "\t-0.010616578365191379\n",
      "\n",
      "trafficSource/adwordsClickInfo/page:\n",
      "\t-0.011957750170935784\n",
      "\n",
      "geoNetwork/continent:\n",
      "\t-0.03061447095091021\n",
      "\n",
      "trafficSource/medium:\n",
      "\t-0.07607462965566243\n",
      "\n",
      "totals/hits:\n",
      "\t-0.11560356053566259\n",
      "\n",
      "device/isMobile:\n",
      "\t-0.15986775043277252\n",
      "\n",
      "totals/newVisits:\n",
      "\t-0.37314889911084653\n",
      "\n"
     ]
    }
   ],
   "source": [
    "lr_model = train_lr(train)"
   ]
  },
  {
   "cell_type": "code",
   "execution_count": 71,
   "metadata": {},
   "outputs": [],
   "source": [
    "import xgboost as xgb\n",
    "from xgboost import DMatrix\n",
    "from sklearn.metrics import mean_squared_error\n",
    "from sklearn.model_selection import train_test_split\n",
    "\n",
    "def train_xgb(df):\n",
    "    X_train, X_test, y_train, y_test = get_tt_split(df)\n",
    "    \n",
    "    print('Training model: {0}...'.format('xgb'))\n",
    "    model = xgb.train({}, DMatrix(X_train, y_train))\n",
    "    test_predictions = model.predict(DMatrix(X_test))\n",
    "    \n",
    "    mse = mean_squared_error(y_test, test_predictions)\n",
    "    rmse = sqrt(mse)\n",
    "    \n",
    "    print('=====')\n",
    "    print('RMSE:', rmse)\n",
    "    return model"
   ]
  },
  {
   "cell_type": "code",
   "execution_count": 72,
   "metadata": {},
   "outputs": [
    {
     "name": "stdout",
     "output_type": "stream",
     "text": [
      "Training model: xgb...\n",
      "=====\n",
      "RMSE: 1.7147403852259484\n"
     ]
    }
   ],
   "source": [
    "xgb_model = train_xgb(train)"
   ]
  }
 ],
 "metadata": {
  "kernelspec": {
   "display_name": "Python 3",
   "language": "python",
   "name": "python3"
  },
  "language_info": {
   "codemirror_mode": {
    "name": "ipython",
    "version": 3
   },
   "file_extension": ".py",
   "mimetype": "text/x-python",
   "name": "python",
   "nbconvert_exporter": "python",
   "pygments_lexer": "ipython3",
   "version": "3.6.5"
  }
 },
 "nbformat": 4,
 "nbformat_minor": 2
}
