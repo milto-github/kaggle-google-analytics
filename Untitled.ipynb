{
 "cells": [
  {
   "cell_type": "code",
   "execution_count": 239,
   "metadata": {},
   "outputs": [],
   "source": [
    "import pandas as pd\n",
    "from pandas.io.json import loads, json_normalize\n",
    "\n",
    "# challenge specifies to load fullVisitorId as a string to guarantee uniqueness\n",
    "id_to_str = {'fullVisitorId': str}\n",
    "\n",
    "train = pd.read_csv('./all/train.csv', nrows=100000, dtype=id_to_str)\n",
    "#test  = pd.read_csv('./all/test.csv', dtype=id_to_str)"
   ]
  },
  {
   "cell_type": "code",
   "execution_count": 240,
   "metadata": {},
   "outputs": [],
   "source": [
    "def parse_json_cols(df):\n",
    "    for col in ['device', 'geoNetwork', 'totals', 'trafficSource']:\n",
    "        # load the json and separate\n",
    "        df_json = json_normalize(df[col].apply(loads), sep='/')\n",
    "        df_json.columns = [(col + '/' + c) for c in df_json.columns]\n",
    "        df.drop(columns=col, inplace=True)\n",
    "        df = pd.concat([df, df_json], axis=1)\n",
    "    return df\n",
    "\n",
    "#\n",
    "train = parse_json_cols(train)\n",
    "#test  = parse_json_cols(test)"
   ]
  },
  {
   "cell_type": "markdown",
   "metadata": {},
   "source": [
    "# Examine data"
   ]
  },
  {
   "cell_type": "markdown",
   "metadata": {},
   "source": [
    "### Several columns have NaN values\n",
    "* Every value in totals should have a lower bound of 0.\n",
    "* Will fill remainder with most frequent value"
   ]
  },
  {
   "cell_type": "code",
   "execution_count": 241,
   "metadata": {},
   "outputs": [
    {
     "data": {
      "text/plain": [
       "totals/bounces                                  True\n",
       "totals/newVisits                                True\n",
       "totals/pageviews                                True\n",
       "totals/transactionRevenue                       True\n",
       "trafficSource/adContent                         True\n",
       "trafficSource/adwordsClickInfo/adNetworkType    True\n",
       "trafficSource/adwordsClickInfo/gclId            True\n",
       "trafficSource/adwordsClickInfo/isVideoAd        True\n",
       "trafficSource/adwordsClickInfo/page             True\n",
       "trafficSource/adwordsClickInfo/slot             True\n",
       "trafficSource/campaignCode                      True\n",
       "trafficSource/isTrueDirect                      True\n",
       "trafficSource/keyword                           True\n",
       "trafficSource/referralPath                      True\n",
       "dtype: bool"
      ]
     },
     "execution_count": 241,
     "metadata": {},
     "output_type": "execute_result"
    }
   ],
   "source": [
    "nan_series = train.isna().any()\n",
    "nan_true   = nan_series[nan_series == True]\n",
    "nan_true"
   ]
  },
  {
   "cell_type": "code",
   "execution_count": 242,
   "metadata": {},
   "outputs": [],
   "source": [
    "def clean_nans(df):\n",
    "    totals_cols = list(filter(lambda c : c.startswith('totals'), df.columns))\n",
    "    for i in totals_cols:\n",
    "        df[i] = df[i].astype(float)\n",
    "        df[i].fillna(0, inplace=True)\n",
    "   \n",
    "    nan_series = df.isna().any()\n",
    "    nan_true   = nan_series[nan_series == True]\n",
    "    remaining_nan_cols = list(set(nan_true.index) - set(totals_cols))\n",
    "    \n",
    "    for i in remaining_nan_cols:\n",
    "        df[i].fillna(df[i].value_counts().index[0], inplace=True)\n",
    "        \n",
    "    return df\n",
    "\n",
    "#\n",
    "train = clean_nans(train)\n",
    "#test  = clean_nans(test)"
   ]
  },
  {
   "cell_type": "markdown",
   "metadata": {},
   "source": [
    "### Several columns have 1 unique value\n",
    "    * Provide no information, so will drop"
   ]
  },
  {
   "cell_type": "code",
   "execution_count": 247,
   "metadata": {
    "scrolled": true
   },
   "outputs": [
    {
     "name": "stdout",
     "output_type": "stream",
     "text": [
      "socialEngagementType\n",
      "device/browserSize\n",
      "device/browserVersion\n",
      "device/flashVersion\n",
      "device/language\n",
      "device/mobileDeviceBranding\n",
      "device/mobileDeviceInfo\n",
      "device/mobileDeviceMarketingName\n",
      "device/mobileDeviceModel\n",
      "device/mobileInputSelector\n",
      "device/operatingSystemVersion\n",
      "device/screenColors\n",
      "device/screenResolution\n",
      "geoNetwork/cityId\n",
      "geoNetwork/latitude\n",
      "geoNetwork/longitude\n",
      "geoNetwork/networkLocation\n",
      "totals/visits\n",
      "trafficSource/adwordsClickInfo/criteriaParameters\n",
      "trafficSource/adwordsClickInfo/isVideoAd\n",
      "trafficSource/campaignCode\n",
      "trafficSource/isTrueDirect\n"
     ]
    }
   ],
   "source": [
    "for col in train:\n",
    "    if len(train[col].unique()) == 1:\n",
    "        print(col)"
   ]
  },
  {
   "cell_type": "code",
   "execution_count": 248,
   "metadata": {},
   "outputs": [],
   "source": [
    "def drop_single_val_cols(df):\n",
    "    for col in df:\n",
    "        if len(df[col].unique()) == 1:\n",
    "            df.drop(columns=[col], inplace=True)\n",
    "    return df\n",
    "\n",
    "#\n",
    "train = drop_single_val_cols(train)\n",
    "#test  = drop_single_val_cols(test)"
   ]
  },
  {
   "cell_type": "code",
   "execution_count": 249,
   "metadata": {},
   "outputs": [],
   "source": [
    "for col in train:\n",
    "    if len(train[col].unique()) == 1:\n",
    "        print(col)"
   ]
  },
  {
   "cell_type": "code",
   "execution_count": 159,
   "metadata": {},
   "outputs": [
    {
     "data": {
      "text/html": [
       "<div>\n",
       "<style scoped>\n",
       "    .dataframe tbody tr th:only-of-type {\n",
       "        vertical-align: middle;\n",
       "    }\n",
       "\n",
       "    .dataframe tbody tr th {\n",
       "        vertical-align: top;\n",
       "    }\n",
       "\n",
       "    .dataframe thead th {\n",
       "        text-align: right;\n",
       "    }\n",
       "</style>\n",
       "<table border=\"1\" class=\"dataframe\">\n",
       "  <thead>\n",
       "    <tr style=\"text-align: right;\">\n",
       "      <th></th>\n",
       "      <th>totals/bounces</th>\n",
       "      <th>totals/hits</th>\n",
       "      <th>totals/newVisits</th>\n",
       "      <th>totals/pageviews</th>\n",
       "      <th>totals/transactionRevenue</th>\n",
       "      <th>totals/visits</th>\n",
       "    </tr>\n",
       "  </thead>\n",
       "  <tbody>\n",
       "    <tr>\n",
       "      <th>0</th>\n",
       "      <td>1.0</td>\n",
       "      <td>1.0</td>\n",
       "      <td>1.0</td>\n",
       "      <td>1.0</td>\n",
       "      <td>0.0</td>\n",
       "      <td>1.0</td>\n",
       "    </tr>\n",
       "    <tr>\n",
       "      <th>1</th>\n",
       "      <td>1.0</td>\n",
       "      <td>1.0</td>\n",
       "      <td>1.0</td>\n",
       "      <td>1.0</td>\n",
       "      <td>0.0</td>\n",
       "      <td>1.0</td>\n",
       "    </tr>\n",
       "    <tr>\n",
       "      <th>2</th>\n",
       "      <td>1.0</td>\n",
       "      <td>1.0</td>\n",
       "      <td>1.0</td>\n",
       "      <td>1.0</td>\n",
       "      <td>0.0</td>\n",
       "      <td>1.0</td>\n",
       "    </tr>\n",
       "    <tr>\n",
       "      <th>3</th>\n",
       "      <td>1.0</td>\n",
       "      <td>1.0</td>\n",
       "      <td>1.0</td>\n",
       "      <td>1.0</td>\n",
       "      <td>0.0</td>\n",
       "      <td>1.0</td>\n",
       "    </tr>\n",
       "    <tr>\n",
       "      <th>4</th>\n",
       "      <td>1.0</td>\n",
       "      <td>1.0</td>\n",
       "      <td>0.0</td>\n",
       "      <td>1.0</td>\n",
       "      <td>0.0</td>\n",
       "      <td>1.0</td>\n",
       "    </tr>\n",
       "  </tbody>\n",
       "</table>\n",
       "</div>"
      ],
      "text/plain": [
       "   totals/bounces  totals/hits  totals/newVisits  totals/pageviews  \\\n",
       "0             1.0          1.0               1.0               1.0   \n",
       "1             1.0          1.0               1.0               1.0   \n",
       "2             1.0          1.0               1.0               1.0   \n",
       "3             1.0          1.0               1.0               1.0   \n",
       "4             1.0          1.0               0.0               1.0   \n",
       "\n",
       "   totals/transactionRevenue  totals/visits  \n",
       "0                        0.0            1.0  \n",
       "1                        0.0            1.0  \n",
       "2                        0.0            1.0  \n",
       "3                        0.0            1.0  \n",
       "4                        0.0            1.0  "
      ]
     },
     "execution_count": 159,
     "metadata": {},
     "output_type": "execute_result"
    }
   ],
   "source": [
    "train[list(filter(lambda c : c.startswith('totals'), train.columns))].head()"
   ]
  },
  {
   "cell_type": "code",
   "execution_count": 157,
   "metadata": {},
   "outputs": [],
   "source": []
  },
  {
   "cell_type": "code",
   "execution_count": null,
   "metadata": {},
   "outputs": [],
   "source": []
  }
 ],
 "metadata": {
  "kernelspec": {
   "display_name": "Python 3",
   "language": "python",
   "name": "python3"
  },
  "language_info": {
   "codemirror_mode": {
    "name": "ipython",
    "version": 3
   },
   "file_extension": ".py",
   "mimetype": "text/x-python",
   "name": "python",
   "nbconvert_exporter": "python",
   "pygments_lexer": "ipython3",
   "version": "3.6.5"
  }
 },
 "nbformat": 4,
 "nbformat_minor": 2
}
